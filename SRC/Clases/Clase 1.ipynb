{
 "cells": [
  {
   "cell_type": "markdown",
   "id": "2d95d061",
   "metadata": {},
   "source": [
    "from setuptools import setup, find_packages\n",
    "\n",
    "setup(\n",
    "    name=\"iudigital_ad\",\n",
    "    version=\"0.0.1\",\n",
    "    author=\"Juan Felipe Vélez Sepúlveda\",\n",
    "    author_email=\"felipe.velez@est.iudigital.edu.co\",\n",
    "    description=\"ETL para análisis de datos del dólar\",\n",
    "    py_modules=[\"actividad1\", \"actividad2\"],\n",
    "    install_requires=[\n",
    "        \"pandas\",\n",
    "        \"openpyxl\",\n",
    "        \"requests\",\n",
    "        \"beautifulsoup4\",\n",
    "        \"matplotlib\"\n",
    "    ]\n",
    ")"
   ]
  }
 ],
 "metadata": {
  "language_info": {
   "name": "python"
  }
 },
 "nbformat": 4,
 "nbformat_minor": 5
}
